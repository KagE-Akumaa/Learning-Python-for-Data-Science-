{
 "cells": [
  {
   "cell_type": "markdown",
   "id": "57a68e66-0d88-430a-a0df-eae0aba4058d",
   "metadata": {},
   "source": [
    "# Function which will accept all arguments (key value pair or dict)"
   ]
  },
  {
   "cell_type": "markdown",
   "id": "f9ad986a-b858-4646-88ab-a8eeaedcdf5c",
   "metadata": {},
   "source": [
    "A dictionary is like a map or hash table in other languages (like std::map in C++ or objects in JavaScript).\n",
    "\n",
    "** collects keyword arguments into a dictionary (key-value pairs).\n",
    "\n",
    "In this dictionary:\n",
    "Keys are always immutable (e.g., strings, numbers, tuples).\n",
    "Values can be mutable or immutable (e.g., list, dict, int, str).\n",
    "\n",
    "You can mutate the values, but you cannot change the keys after insertion."
   ]
  },
  {
   "cell_type": "code",
   "execution_count": 1,
   "id": "88d7766f-d409-4a0c-93e5-3923c49b6107",
   "metadata": {},
   "outputs": [
    {
     "name": "stdout",
     "output_type": "stream",
     "text": [
      "a 10\n",
      "b game\n",
      "c 69.69\n"
     ]
    }
   ],
   "source": [
    "def allArguments(**args):\n",
    "    for i in args:\n",
    "        print(i, args[i]) # i is the key and args[i] is the value associated with that key\n",
    "\n",
    "allArguments(a = 10, b = \"game\", c = 69.69)"
   ]
  },
  {
   "cell_type": "code",
   "execution_count": null,
   "id": "bebed953-babf-4f0b-95b3-4ffd52939722",
   "metadata": {},
   "outputs": [],
   "source": []
  }
 ],
 "metadata": {
  "kernelspec": {
   "display_name": "Python 3 (ipykernel)",
   "language": "python",
   "name": "python3"
  },
  "language_info": {
   "codemirror_mode": {
    "name": "ipython",
    "version": 3
   },
   "file_extension": ".py",
   "mimetype": "text/x-python",
   "name": "python",
   "nbconvert_exporter": "python",
   "pygments_lexer": "ipython3",
   "version": "3.12.7"
  }
 },
 "nbformat": 4,
 "nbformat_minor": 5
}
