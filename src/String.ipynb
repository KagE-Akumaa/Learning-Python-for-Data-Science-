{
 "cells": [
  {
   "cell_type": "markdown",
   "id": "132673e4-ffdc-41f7-95f5-20413fcc9337",
   "metadata": {},
   "source": [
    "# Mulitline string in python\n"
   ]
  },
  {
   "cell_type": "code",
   "execution_count": 1,
   "id": "f85fde62-4c1b-4873-844a-d1fa7eb19b7f",
   "metadata": {},
   "outputs": [
    {
     "name": "stdout",
     "output_type": "stream",
     "text": [
      "this is a multiline string\n",
      "this is line 1\n",
      "this is line 2\n",
      "this is line 3\n",
      "\n"
     ]
    }
   ],
   "source": [
    "multilineString = \"\"\"this is a multiline string\n",
    "this is line 1\n",
    "this is line 2\n",
    "this is line 3\n",
    "\"\"\"\n",
    "print(multilineString)"
   ]
  },
  {
   "cell_type": "markdown",
   "id": "ded6286f-61b0-48f0-b81a-2c00b7174b1c",
   "metadata": {},
   "source": [
    "# slicing a string\n"
   ]
  },
  {
   "cell_type": "markdown",
   "id": "ee93e4a6-a5b1-4611-b2c2-33ab34902a5c",
   "metadata": {},
   "source": [
    "a[3:8] it include the first index and ignore the second :- string from index 3 to 7\n",
    "a[-8:-3] it counts the index from the right side\n",
    "\n",
    "Strings in python are immutable so any changes will be reflected in a new string object and the original string won't be changed\n",
    "\n",
    "# a[start:end:step] \n",
    "default step size is 1\n",
    "default end is the length of the string\n",
    "default start is 0\n"
   ]
  },
  {
   "cell_type": "code",
   "execution_count": 3,
   "id": "555f8301-6611-480f-bad6-178a353d1b6c",
   "metadata": {},
   "outputs": [
    {
     "name": "stdout",
     "output_type": "stream",
     "text": [
      "e of \n",
      "gramm\n",
      "19\n",
      "5\n"
     ]
    }
   ],
   "source": [
    "a = \"Game of programming\"\n",
    "print(a[3:8])\n",
    "print(a[-8:-3])\n",
    "\n",
    "# find the length of a string and sub string\n",
    "\n",
    "print(len(a))\n",
    "print(len(a[3:8]))"
   ]
  },
  {
   "cell_type": "markdown",
   "id": "4dcf412f-40ff-4c8f-9f17-eedd5394222c",
   "metadata": {},
   "source": [
    "# Some basic functions in strings\n"
   ]
  },
  {
   "cell_type": "markdown",
   "id": "0807b7ba-0af3-4c97-b102-f37b42a91573",
   "metadata": {},
   "source": [
    "1. a.strip() - this function removes the starting and ending spaces from a string. Spaces in between won't be affected."
   ]
  },
  {
   "cell_type": "code",
   "execution_count": 4,
   "id": "df873eff-1a36-481b-824c-1a5e6c99e698",
   "metadata": {},
   "outputs": [
    {
     "name": "stdout",
     "output_type": "stream",
     "text": [
      "asadsf asdf    asdf\n"
     ]
    }
   ],
   "source": [
    "a = \" asadsf asdf    asdf  \"\n",
    "b = a.strip()\n",
    "print(b)"
   ]
  },
  {
   "cell_type": "markdown",
   "id": "0e06fd02-58f5-49f5-b1b0-37e132049889",
   "metadata": {},
   "source": [
    "2. a.lower() - converts all the alphabets in lower case"
   ]
  },
  {
   "cell_type": "code",
   "execution_count": 5,
   "id": "1e076b57-c776-4ad3-985f-f72ca12bea6e",
   "metadata": {},
   "outputs": [
    {
     "name": "stdout",
     "output_type": "stream",
     "text": [
      "game of programming\n"
     ]
    }
   ],
   "source": [
    "a = \"GAME OF PROGRAMMING\"\n",
    "b = a.lower()\n",
    "print(b)"
   ]
  },
  {
   "cell_type": "markdown",
   "id": "db9156d6-90ae-4ee5-938c-69f0c07aeac5",
   "metadata": {},
   "source": [
    "3. a.upper() - converts all the alphabets in upper case"
   ]
  },
  {
   "cell_type": "code",
   "execution_count": 6,
   "id": "e4deb22f-87cb-413a-857b-85cbc405f2e6",
   "metadata": {},
   "outputs": [
    {
     "name": "stdout",
     "output_type": "stream",
     "text": [
      "GAME OF PROGRAMMING\n"
     ]
    }
   ],
   "source": [
    "a = \"Game of programming\"\n",
    "b = a.upper()\n",
    "print(b)"
   ]
  },
  {
   "cell_type": "markdown",
   "id": "59d40a55-d9b5-4993-8c05-276a495995a1",
   "metadata": {},
   "source": [
    "4. a.replace() - takes two arguments first what to replace second with what it should replace. Can replace substrings too."
   ]
  },
  {
   "cell_type": "code",
   "execution_count": 9,
   "id": "4aaedfb1-8178-4905-9dbc-af35eaa9b4cc",
   "metadata": {},
   "outputs": [
    {
     "name": "stdout",
     "output_type": "stream",
     "text": [
      "game of ** programming\n",
      "game of Two semicolons programming\n"
     ]
    }
   ],
   "source": [
    "a = \"game of ;; programming\"\n",
    "b = a.replace(\";\",\"*\")\n",
    "print(b)\n",
    "\n",
    "b = a.replace(\";;\",\"Two semicolons\")\n",
    "print(b)\n"
   ]
  },
  {
   "cell_type": "markdown",
   "id": "52866072-fceb-475f-a4e6-6751a491522b",
   "metadata": {},
   "source": [
    "5. a.split() - takes an argument according to which it splits the string into a list same as a vector."
   ]
  },
  {
   "cell_type": "code",
   "execution_count": 11,
   "id": "0a95beee-3958-40e4-8dc6-c879be5a857d",
   "metadata": {},
   "outputs": [
    {
     "name": "stdout",
     "output_type": "stream",
     "text": [
      "['abc', 'def', 'ghi', '123']\n",
      "ghi\n"
     ]
    }
   ],
   "source": [
    "a = \"abc;def;ghi;123\"\n",
    "b = a.split(\";\")\n",
    "# b is a list now\n",
    "print(b)\n",
    "\n",
    "print(b[2])"
   ]
  },
  {
   "cell_type": "markdown",
   "id": "8f0f2586-2d12-4f6f-b417-74d8e9497dbd",
   "metadata": {},
   "source": [
    "# in and not in keyword\n",
    "check if the element is present inside it or not"
   ]
  },
  {
   "cell_type": "code",
   "execution_count": 12,
   "id": "b16c4d71-d4e8-4e65-bbee-cd90dd05760a",
   "metadata": {},
   "outputs": [
    {
     "data": {
      "text/plain": [
       "True"
      ]
     },
     "execution_count": 12,
     "metadata": {},
     "output_type": "execute_result"
    }
   ],
   "source": [
    "\"abc\" in \"abceddfsdfsabc\""
   ]
  },
  {
   "cell_type": "code",
   "execution_count": 13,
   "id": "5ae5253e-de44-48e3-a032-195bc5799670",
   "metadata": {},
   "outputs": [
    {
     "data": {
      "text/plain": [
       "False"
      ]
     },
     "execution_count": 13,
     "metadata": {},
     "output_type": "execute_result"
    }
   ],
   "source": [
    "\"abc\" not in \"abceddfsdfsabc\""
   ]
  },
  {
   "cell_type": "code",
   "execution_count": 14,
   "id": "65d536f4-f825-4d75-8172-3992e44298b7",
   "metadata": {},
   "outputs": [
    {
     "name": "stdout",
     "output_type": "stream",
     "text": [
      "gnimmargorp fo emaG\n"
     ]
    }
   ],
   "source": [
    "a = \"Game of programming\"\n",
    "b = a[::-1] # reverse the string\n",
    "print(b)"
   ]
  },
  {
   "cell_type": "code",
   "execution_count": null,
   "id": "99b8ad62-f208-4620-bb0f-8de6ea52db7a",
   "metadata": {},
   "outputs": [],
   "source": []
  }
 ],
 "metadata": {
  "kernelspec": {
   "display_name": "Python 3 (ipykernel)",
   "language": "python",
   "name": "python3"
  },
  "language_info": {
   "codemirror_mode": {
    "name": "ipython",
    "version": 3
   },
   "file_extension": ".py",
   "mimetype": "text/x-python",
   "name": "python",
   "nbconvert_exporter": "python",
   "pygments_lexer": "ipython3",
   "version": "3.12.7"
  }
 },
 "nbformat": 4,
 "nbformat_minor": 5
}
